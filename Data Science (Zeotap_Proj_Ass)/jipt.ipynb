{
 "cells": [
  {
   "cell_type": "markdown",
   "metadata": {},
   "source": [
    "Task all\n",
    "\n",
    "1 asdfg\n",
    "2 qwert\n",
    "3 zxcv"
   ]
  },
  {
   "cell_type": "code",
   "execution_count": 6,
   "metadata": {},
   "outputs": [
    {
     "name": "stdout",
     "output_type": "stream",
     "text": [
      "Hi\n"
     ]
    }
   ],
   "source": [
    "print(\"Hi\")\n"
   ]
  },
  {
   "cell_type": "code",
   "execution_count": 9,
   "metadata": {},
   "outputs": [
    {
     "name": "stdout",
     "output_type": "stream",
     "text": [
      "Defaulting to user installation because normal site-packages is not writeable\n",
      "Requirement already satisfied: scikit-learn in c:\\users\\kumar\\appdata\\roaming\\python\\python313\\site-packages (1.6.1)\n",
      "Requirement already satisfied: numpy>=1.19.5 in c:\\users\\kumar\\appdata\\roaming\\python\\python313\\site-packages (from scikit-learn) (2.2.1)\n",
      "Requirement already satisfied: scipy>=1.6.0 in c:\\users\\kumar\\appdata\\roaming\\python\\python313\\site-packages (from scikit-learn) (1.15.1)\n",
      "Requirement already satisfied: joblib>=1.2.0 in c:\\users\\kumar\\appdata\\roaming\\python\\python313\\site-packages (from scikit-learn) (1.4.2)\n",
      "Requirement already satisfied: threadpoolctl>=3.1.0 in c:\\users\\kumar\\appdata\\roaming\\python\\python313\\site-packages (from scikit-learn) (3.5.0)\n",
      "Note: you may need to restart the kernel to use updated packages.\n"
     ]
    },
    {
     "name": "stderr",
     "output_type": "stream",
     "text": [
      "\n",
      "[notice] A new release of pip is available: 24.3.1 -> 25.0\n",
      "[notice] To update, run: python.exe -m pip install --upgrade pip\n"
     ]
    }
   ],
   "source": [
    "pip install scikit-learn\n"
   ]
  },
  {
   "cell_type": "code",
   "execution_count": 11,
   "metadata": {},
   "outputs": [
    {
     "name": "stdout",
     "output_type": "stream",
     "text": [
      "1.6.1\n"
     ]
    }
   ],
   "source": [
    "import sklearn\n",
    "print(sklearn.__version__)"
   ]
  },
  {
   "cell_type": "code",
   "execution_count": 12,
   "metadata": {},
   "outputs": [
    {
     "name": "stdout",
     "output_type": "stream",
     "text": [
      "Defaulting to user installation because normal site-packages is not writeableNote: you may need to restart the kernel to use updated packages.\n",
      "\n",
      "Requirement already satisfied: scikit-learn in c:\\users\\kumar\\appdata\\roaming\\python\\python313\\site-packages (1.6.1)\n",
      "Requirement already satisfied: numpy>=1.19.5 in c:\\users\\kumar\\appdata\\roaming\\python\\python313\\site-packages (from scikit-learn) (2.2.1)\n",
      "Requirement already satisfied: scipy>=1.6.0 in c:\\users\\kumar\\appdata\\roaming\\python\\python313\\site-packages (from scikit-learn) (1.15.1)\n",
      "Requirement already satisfied: joblib>=1.2.0 in c:\\users\\kumar\\appdata\\roaming\\python\\python313\\site-packages (from scikit-learn) (1.4.2)\n",
      "Requirement already satisfied: threadpoolctl>=3.1.0 in c:\\users\\kumar\\appdata\\roaming\\python\\python313\\site-packages (from scikit-learn) (3.5.0)\n"
     ]
    },
    {
     "name": "stderr",
     "output_type": "stream",
     "text": [
      "\n",
      "[notice] A new release of pip is available: 24.3.1 -> 25.0\n",
      "[notice] To update, run: python.exe -m pip install --upgrade pip\n"
     ]
    }
   ],
   "source": [
    "pip install -U scikit-learn"
   ]
  },
  {
   "cell_type": "code",
   "execution_count": 14,
   "metadata": {},
   "outputs": [
    {
     "name": "stdout",
     "output_type": "stream",
     "text": [
      "Note: you may need to restart the kernel to use updated packages.\n",
      "Defaulting to user installation because normal site-packages is not writeable\n",
      "Requirement already satisfied: scikit-learn in c:\\users\\kumar\\appdata\\roaming\\python\\python313\\site-packages (1.6.1)\n",
      "Requirement already satisfied: numpy>=1.19.5 in c:\\users\\kumar\\appdata\\roaming\\python\\python313\\site-packages (from scikit-learn) (2.2.1)\n",
      "Requirement already satisfied: scipy>=1.6.0 in c:\\users\\kumar\\appdata\\roaming\\python\\python313\\site-packages (from scikit-learn) (1.15.1)\n",
      "Requirement already satisfied: joblib>=1.2.0 in c:\\users\\kumar\\appdata\\roaming\\python\\python313\\site-packages (from scikit-learn) (1.4.2)\n",
      "Requirement already satisfied: threadpoolctl>=3.1.0 in c:\\users\\kumar\\appdata\\roaming\\python\\python313\\site-packages (from scikit-learn) (3.5.0)\n"
     ]
    },
    {
     "name": "stderr",
     "output_type": "stream",
     "text": [
      "\n",
      "[notice] A new release of pip is available: 24.3.1 -> 25.0\n",
      "[notice] To update, run: python.exe -m pip install --upgrade pip\n"
     ]
    }
   ],
   "source": [
    "%pip install -U scikit-learn"
   ]
  },
  {
   "cell_type": "code",
   "execution_count": 16,
   "metadata": {},
   "outputs": [
    {
     "ename": "ValueError",
     "evalue": "The python kernel does not appear to be a conda environment.  Please use ``%pip install`` instead.",
     "output_type": "error",
     "traceback": [
      "\u001b[1;31m---------------------------------------------------------------------------\u001b[0m",
      "\u001b[1;31mValueError\u001b[0m                                Traceback (most recent call last)",
      "Cell \u001b[1;32mIn[16], line 1\u001b[0m\n\u001b[1;32m----> 1\u001b[0m \u001b[43mget_ipython\u001b[49m\u001b[43m(\u001b[49m\u001b[43m)\u001b[49m\u001b[38;5;241;43m.\u001b[39;49m\u001b[43mrun_line_magic\u001b[49m\u001b[43m(\u001b[49m\u001b[38;5;124;43m'\u001b[39;49m\u001b[38;5;124;43mconda\u001b[39;49m\u001b[38;5;124;43m'\u001b[39;49m\u001b[43m,\u001b[49m\u001b[43m \u001b[49m\u001b[38;5;124;43m'\u001b[39;49m\u001b[38;5;124;43mactivate your_environment_name\u001b[39;49m\u001b[38;5;124;43m'\u001b[39;49m\u001b[43m)\u001b[49m\n",
      "File \u001b[1;32m~\\AppData\\Roaming\\Python\\Python313\\site-packages\\IPython\\core\\interactiveshell.py:2480\u001b[0m, in \u001b[0;36mInteractiveShell.run_line_magic\u001b[1;34m(self, magic_name, line, _stack_depth)\u001b[0m\n\u001b[0;32m   2478\u001b[0m     kwargs[\u001b[38;5;124m'\u001b[39m\u001b[38;5;124mlocal_ns\u001b[39m\u001b[38;5;124m'\u001b[39m] \u001b[38;5;241m=\u001b[39m \u001b[38;5;28mself\u001b[39m\u001b[38;5;241m.\u001b[39mget_local_scope(stack_depth)\n\u001b[0;32m   2479\u001b[0m \u001b[38;5;28;01mwith\u001b[39;00m \u001b[38;5;28mself\u001b[39m\u001b[38;5;241m.\u001b[39mbuiltin_trap:\n\u001b[1;32m-> 2480\u001b[0m     result \u001b[38;5;241m=\u001b[39m \u001b[43mfn\u001b[49m\u001b[43m(\u001b[49m\u001b[38;5;241;43m*\u001b[39;49m\u001b[43margs\u001b[49m\u001b[43m,\u001b[49m\u001b[43m \u001b[49m\u001b[38;5;241;43m*\u001b[39;49m\u001b[38;5;241;43m*\u001b[39;49m\u001b[43mkwargs\u001b[49m\u001b[43m)\u001b[49m\n\u001b[0;32m   2482\u001b[0m \u001b[38;5;66;03m# The code below prevents the output from being displayed\u001b[39;00m\n\u001b[0;32m   2483\u001b[0m \u001b[38;5;66;03m# when using magics with decorator @output_can_be_silenced\u001b[39;00m\n\u001b[0;32m   2484\u001b[0m \u001b[38;5;66;03m# when the last Python token in the expression is a ';'.\u001b[39;00m\n\u001b[0;32m   2485\u001b[0m \u001b[38;5;28;01mif\u001b[39;00m \u001b[38;5;28mgetattr\u001b[39m(fn, magic\u001b[38;5;241m.\u001b[39mMAGIC_OUTPUT_CAN_BE_SILENCED, \u001b[38;5;28;01mFalse\u001b[39;00m):\n",
      "File \u001b[1;32m~\\AppData\\Roaming\\Python\\Python313\\site-packages\\IPython\\core\\magics\\packaging.py:27\u001b[0m, in \u001b[0;36mis_conda_environment.<locals>.wrapper\u001b[1;34m(*args, **kwargs)\u001b[0m\n\u001b[0;32m     25\u001b[0m \u001b[38;5;66;03m# TODO: does this need to change on windows?\u001b[39;00m\n\u001b[0;32m     26\u001b[0m \u001b[38;5;28;01mif\u001b[39;00m \u001b[38;5;129;01mnot\u001b[39;00m Path(sys\u001b[38;5;241m.\u001b[39mprefix, \u001b[38;5;124m\"\u001b[39m\u001b[38;5;124mconda-meta\u001b[39m\u001b[38;5;124m\"\u001b[39m, \u001b[38;5;124m\"\u001b[39m\u001b[38;5;124mhistory\u001b[39m\u001b[38;5;124m\"\u001b[39m)\u001b[38;5;241m.\u001b[39mexists():\n\u001b[1;32m---> 27\u001b[0m     \u001b[38;5;28;01mraise\u001b[39;00m \u001b[38;5;167;01mValueError\u001b[39;00m(\n\u001b[0;32m     28\u001b[0m         \u001b[38;5;124m\"\u001b[39m\u001b[38;5;124mThe python kernel does not appear to be a conda environment.  \u001b[39m\u001b[38;5;124m\"\u001b[39m\n\u001b[0;32m     29\u001b[0m         \u001b[38;5;124m\"\u001b[39m\u001b[38;5;124mPlease use ``\u001b[39m\u001b[38;5;124m%\u001b[39m\u001b[38;5;124mpip install`` instead.\u001b[39m\u001b[38;5;124m\"\u001b[39m\n\u001b[0;32m     30\u001b[0m     )\n\u001b[0;32m     31\u001b[0m \u001b[38;5;28;01mreturn\u001b[39;00m func(\u001b[38;5;241m*\u001b[39margs, \u001b[38;5;241m*\u001b[39m\u001b[38;5;241m*\u001b[39mkwargs)\n",
      "\u001b[1;31mValueError\u001b[0m: The python kernel does not appear to be a conda environment.  Please use ``%pip install`` instead."
     ]
    }
   ],
   "source": [
    "conda activate your_environment_name"
   ]
  },
  {
   "cell_type": "code",
   "execution_count": 15,
   "metadata": {},
   "outputs": [
    {
     "ename": "ValueError",
     "evalue": "The python kernel does not appear to be a conda environment.  Please use ``%pip install`` instead.",
     "output_type": "error",
     "traceback": [
      "\u001b[1;31m---------------------------------------------------------------------------\u001b[0m",
      "\u001b[1;31mValueError\u001b[0m                                Traceback (most recent call last)",
      "Cell \u001b[1;32mIn[15], line 1\u001b[0m\n\u001b[1;32m----> 1\u001b[0m \u001b[43mget_ipython\u001b[49m\u001b[43m(\u001b[49m\u001b[43m)\u001b[49m\u001b[38;5;241;43m.\u001b[39;49m\u001b[43mrun_line_magic\u001b[49m\u001b[43m(\u001b[49m\u001b[38;5;124;43m'\u001b[39;49m\u001b[38;5;124;43mconda\u001b[39;49m\u001b[38;5;124;43m'\u001b[39;49m\u001b[43m,\u001b[49m\u001b[43m \u001b[49m\u001b[38;5;124;43m'\u001b[39;49m\u001b[38;5;124;43mupdate scikit-learn\u001b[39;49m\u001b[38;5;124;43m'\u001b[39;49m\u001b[43m)\u001b[49m\n",
      "File \u001b[1;32m~\\AppData\\Roaming\\Python\\Python313\\site-packages\\IPython\\core\\interactiveshell.py:2480\u001b[0m, in \u001b[0;36mInteractiveShell.run_line_magic\u001b[1;34m(self, magic_name, line, _stack_depth)\u001b[0m\n\u001b[0;32m   2478\u001b[0m     kwargs[\u001b[38;5;124m'\u001b[39m\u001b[38;5;124mlocal_ns\u001b[39m\u001b[38;5;124m'\u001b[39m] \u001b[38;5;241m=\u001b[39m \u001b[38;5;28mself\u001b[39m\u001b[38;5;241m.\u001b[39mget_local_scope(stack_depth)\n\u001b[0;32m   2479\u001b[0m \u001b[38;5;28;01mwith\u001b[39;00m \u001b[38;5;28mself\u001b[39m\u001b[38;5;241m.\u001b[39mbuiltin_trap:\n\u001b[1;32m-> 2480\u001b[0m     result \u001b[38;5;241m=\u001b[39m \u001b[43mfn\u001b[49m\u001b[43m(\u001b[49m\u001b[38;5;241;43m*\u001b[39;49m\u001b[43margs\u001b[49m\u001b[43m,\u001b[49m\u001b[43m \u001b[49m\u001b[38;5;241;43m*\u001b[39;49m\u001b[38;5;241;43m*\u001b[39;49m\u001b[43mkwargs\u001b[49m\u001b[43m)\u001b[49m\n\u001b[0;32m   2482\u001b[0m \u001b[38;5;66;03m# The code below prevents the output from being displayed\u001b[39;00m\n\u001b[0;32m   2483\u001b[0m \u001b[38;5;66;03m# when using magics with decorator @output_can_be_silenced\u001b[39;00m\n\u001b[0;32m   2484\u001b[0m \u001b[38;5;66;03m# when the last Python token in the expression is a ';'.\u001b[39;00m\n\u001b[0;32m   2485\u001b[0m \u001b[38;5;28;01mif\u001b[39;00m \u001b[38;5;28mgetattr\u001b[39m(fn, magic\u001b[38;5;241m.\u001b[39mMAGIC_OUTPUT_CAN_BE_SILENCED, \u001b[38;5;28;01mFalse\u001b[39;00m):\n",
      "File \u001b[1;32m~\\AppData\\Roaming\\Python\\Python313\\site-packages\\IPython\\core\\magics\\packaging.py:27\u001b[0m, in \u001b[0;36mis_conda_environment.<locals>.wrapper\u001b[1;34m(*args, **kwargs)\u001b[0m\n\u001b[0;32m     25\u001b[0m \u001b[38;5;66;03m# TODO: does this need to change on windows?\u001b[39;00m\n\u001b[0;32m     26\u001b[0m \u001b[38;5;28;01mif\u001b[39;00m \u001b[38;5;129;01mnot\u001b[39;00m Path(sys\u001b[38;5;241m.\u001b[39mprefix, \u001b[38;5;124m\"\u001b[39m\u001b[38;5;124mconda-meta\u001b[39m\u001b[38;5;124m\"\u001b[39m, \u001b[38;5;124m\"\u001b[39m\u001b[38;5;124mhistory\u001b[39m\u001b[38;5;124m\"\u001b[39m)\u001b[38;5;241m.\u001b[39mexists():\n\u001b[1;32m---> 27\u001b[0m     \u001b[38;5;28;01mraise\u001b[39;00m \u001b[38;5;167;01mValueError\u001b[39;00m(\n\u001b[0;32m     28\u001b[0m         \u001b[38;5;124m\"\u001b[39m\u001b[38;5;124mThe python kernel does not appear to be a conda environment.  \u001b[39m\u001b[38;5;124m\"\u001b[39m\n\u001b[0;32m     29\u001b[0m         \u001b[38;5;124m\"\u001b[39m\u001b[38;5;124mPlease use ``\u001b[39m\u001b[38;5;124m%\u001b[39m\u001b[38;5;124mpip install`` instead.\u001b[39m\u001b[38;5;124m\"\u001b[39m\n\u001b[0;32m     30\u001b[0m     )\n\u001b[0;32m     31\u001b[0m \u001b[38;5;28;01mreturn\u001b[39;00m func(\u001b[38;5;241m*\u001b[39margs, \u001b[38;5;241m*\u001b[39m\u001b[38;5;241m*\u001b[39mkwargs)\n",
      "\u001b[1;31mValueError\u001b[0m: The python kernel does not appear to be a conda environment.  Please use ``%pip install`` instead."
     ]
    }
   ],
   "source": [
    "conda update scikit-learn"
   ]
  },
  {
   "cell_type": "code",
   "execution_count": 10,
   "metadata": {},
   "outputs": [],
   "source": [
    "import pandas as pd\n",
    "\n",
    "customers = pd.read_csv('Customers.csv')\n",
    "products = pd.read_csv('Products.csv')\n",
    "transactions = pd.read_csv('Transactions.csv')"
   ]
  },
  {
   "cell_type": "markdown",
   "metadata": {},
   "source": []
  },
  {
   "cell_type": "markdown",
   "metadata": {},
   "source": [
    "              2 nd  AI "
   ]
  },
  {
   "cell_type": "code",
   "execution_count": 44,
   "metadata": {},
   "outputs": [],
   "source": [
    "import re\n",
    "# import spacy\n",
    "import nltk\n",
    "from nltk.tokenize import sent_tokenize\n",
    "from nltk.corpus import stopwords\n",
    "from collections import defaultdict\n",
    "from sklearn.feature_extraction.text import TfidfVectorizer\n",
    "from sklearn.decomposition import LatentDirichletAllocation"
   ]
  },
  {
   "cell_type": "code",
   "execution_count": 42,
   "metadata": {},
   "outputs": [
    {
     "name": "stdout",
     "output_type": "stream",
     "text": [
      "Requirement already satisfied: nltk in c:\\users\\kumar\\appdata\\roaming\\python\\python313\\site-packages (3.9.1)\n",
      "Requirement already satisfied: click in c:\\users\\kumar\\appdata\\roaming\\python\\python313\\site-packages (from nltk) (8.1.8)\n",
      "Requirement already satisfied: joblib in c:\\users\\kumar\\appdata\\roaming\\python\\python313\\site-packages (from nltk) (1.4.2)\n",
      "Requirement already satisfied: regex>=2021.8.3 in c:\\users\\kumar\\appdata\\roaming\\python\\python313\\site-packages (from nltk) (2024.11.6)\n",
      "Requirement already satisfied: tqdm in c:\\users\\kumar\\appdata\\roaming\\python\\python313\\site-packages (from nltk) (4.67.1)\n",
      "Requirement already satisfied: colorama in c:\\users\\kumar\\appdata\\roaming\\python\\python313\\site-packages (from click->nltk) (0.4.6)\n"
     ]
    }
   ],
   "source": [
    "!pip install --user nltk\n",
    "\n",
    "\n"
   ]
  },
  {
   "cell_type": "code",
   "execution_count": 46,
   "metadata": {},
   "outputs": [
    {
     "name": "stdout",
     "output_type": "stream",
     "text": [
      "c:\\Program Files\\Python313\\python.exe\n"
     ]
    }
   ],
   "source": [
    "import sys\n",
    "print(sys.executable)\n",
    "\n",
    "\n",
    "\n"
   ]
  },
  {
   "cell_type": "code",
   "execution_count": 55,
   "metadata": {},
   "outputs": [
    {
     "name": "stderr",
     "output_type": "stream",
     "text": [
      "c:\\Program Files\\Python313\\python.exe: No module named spacy\n"
     ]
    }
   ],
   "source": [
    "!python -m spacy download de_core_news_sm\n"
   ]
  },
  {
   "cell_type": "code",
   "execution_count": 47,
   "metadata": {},
   "outputs": [
    {
     "name": "stdout",
     "output_type": "stream",
     "text": [
      "Defaulting to user installation because normal site-packages is not writeable\n",
      "Collecting SpaCy\n",
      "  Using cached spacy-3.8.2.tar.gz (1.3 MB)\n",
      "  Installing build dependencies: started\n",
      "  Installing build dependencies: still running...\n",
      "  Installing build dependencies: finished with status 'error'\n"
     ]
    },
    {
     "name": "stderr",
     "output_type": "stream",
     "text": [
      "  error: subprocess-exited-with-error\n",
      "  \n",
      "  × pip subprocess to install build dependencies did not run successfully.\n",
      "  │ exit code: 1\n",
      "  ╰─> [101 lines of output]\n",
      "      Ignoring numpy: markers 'python_version < \"3.9\"' don't match your environment\n",
      "      Collecting setuptools\n",
      "        Using cached setuptools-75.8.0-py3-none-any.whl.metadata (6.7 kB)\n",
      "      Collecting cython<3.0,>=0.25\n",
      "        Using cached Cython-0.29.37-py2.py3-none-any.whl.metadata (3.1 kB)\n",
      "      Collecting cymem<2.1.0,>=2.0.2\n",
      "        Using cached cymem-2.0.11-cp313-cp313-win_amd64.whl.metadata (8.8 kB)\n",
      "      Collecting preshed<3.1.0,>=3.0.2\n",
      "        Using cached preshed-3.0.9.tar.gz (14 kB)\n",
      "        Installing build dependencies: started\n",
      "        Installing build dependencies: finished with status 'done'\n",
      "        Getting requirements to build wheel: started\n",
      "        Getting requirements to build wheel: finished with status 'done'\n",
      "        Preparing metadata (pyproject.toml): started\n",
      "        Preparing metadata (pyproject.toml): finished with status 'done'\n",
      "      Collecting murmurhash<1.1.0,>=0.28.0\n",
      "        Using cached murmurhash-1.0.12-cp313-cp313-win_amd64.whl.metadata (2.2 kB)\n",
      "      Collecting thinc<8.4.0,>=8.3.0\n",
      "        Using cached thinc-8.3.2.tar.gz (193 kB)\n",
      "        Installing build dependencies: started\n",
      "        Installing build dependencies: finished with status 'error'\n",
      "        error: subprocess-exited-with-error\n",
      "      \n",
      "        Ã— pip subprocess to install build dependencies did not run successfully.\n",
      "        â”‚ exit code: 1\n",
      "        â•°â”€> [65 lines of output]\n",
      "            Ignoring numpy: markers 'python_version < \"3.9\"' don't match your environment\n",
      "            Collecting setuptools\n",
      "              Using cached setuptools-75.8.0-py3-none-any.whl.metadata (6.7 kB)\n",
      "            Collecting cython<3.0,>=0.25\n",
      "              Using cached Cython-0.29.37-py2.py3-none-any.whl.metadata (3.1 kB)\n",
      "            Collecting murmurhash<1.1.0,>=1.0.2\n",
      "              Using cached murmurhash-1.0.12-cp313-cp313-win_amd64.whl.metadata (2.2 kB)\n",
      "            Collecting cymem<2.1.0,>=2.0.2\n",
      "              Using cached cymem-2.0.11-cp313-cp313-win_amd64.whl.metadata (8.8 kB)\n",
      "            Collecting preshed<3.1.0,>=3.0.2\n",
      "              Using cached preshed-3.0.9.tar.gz (14 kB)\n",
      "              Installing build dependencies: started\n",
      "              Installing build dependencies: finished with status 'done'\n",
      "              Getting requirements to build wheel: started\n",
      "              Getting requirements to build wheel: finished with status 'done'\n",
      "              Preparing metadata (pyproject.toml): started\n",
      "              Preparing metadata (pyproject.toml): finished with status 'done'\n",
      "            Collecting blis<1.1.0,>=1.0.0\n",
      "              Using cached blis-1.0.2-cp313-cp313-win_amd64.whl.metadata (7.8 kB)\n",
      "            Collecting numpy<2.1.0,>=2.0.0\n",
      "              Using cached numpy-2.0.2.tar.gz (18.9 MB)\n",
      "              Installing build dependencies: started\n",
      "              Installing build dependencies: finished with status 'done'\n",
      "              Getting requirements to build wheel: started\n",
      "              Getting requirements to build wheel: finished with status 'done'\n",
      "              Installing backend dependencies: started\n",
      "              Installing backend dependencies: finished with status 'done'\n",
      "              Preparing metadata (pyproject.toml): started\n",
      "              Preparing metadata (pyproject.toml): finished with status 'error'\n",
      "              error: subprocess-exited-with-error\n",
      "      \n",
      "              Ãƒâ€” Preparing metadata (pyproject.toml) did not run successfully.\n",
      "              Ã¢â€\\x9dâ€š exit code: 1\n",
      "              Ã¢â€¢Â°Ã¢â€\\x9dâ‚¬> [21 lines of output]\n",
      "                  + c:\\Program Files\\Python313\\python.exe C:\\Users\\kumar\\AppData\\Local\\Temp\\pip-install-d5z2o5cs\\numpy_ae82eb5da8c2429bbacd377a31efe539\\vendored-meson\\meson\\meson.py setup C:\\Users\\kumar\\AppData\\Local\\Temp\\pip-install-d5z2o5cs\\numpy_ae82eb5da8c2429bbacd377a31efe539 C:\\Users\\kumar\\AppData\\Local\\Temp\\pip-install-d5z2o5cs\\numpy_ae82eb5da8c2429bbacd377a31efe539\\.mesonpy-0dfwtdt_ -Dbuildtype=release -Db_ndebug=if-release -Db_vscrt=md --native-file=C:\\Users\\kumar\\AppData\\Local\\Temp\\pip-install-d5z2o5cs\\numpy_ae82eb5da8c2429bbacd377a31efe539\\.mesonpy-0dfwtdt_\\meson-python-native-file.ini\n",
      "                  The Meson build system\n",
      "                  Version: 1.4.99\n",
      "                  Source dir: C:\\Users\\kumar\\AppData\\Local\\Temp\\pip-install-d5z2o5cs\\numpy_ae82eb5da8c2429bbacd377a31efe539\n",
      "                  Build dir: C:\\Users\\kumar\\AppData\\Local\\Temp\\pip-install-d5z2o5cs\\numpy_ae82eb5da8c2429bbacd377a31efe539\\.mesonpy-0dfwtdt_\n",
      "                  Build type: native build\n",
      "                  Project name: NumPy\n",
      "                  Project version: 2.0.2\n",
      "                  WARNING: Failed to activate VS environment: Could not find C:\\Program Files (x86)\\Microsoft Visual Studio\\Installer\\vswhere.exe\n",
      "      \n",
      "                  ..\\meson.build:1:0: ERROR: Unknown compiler(s): [['icl'], ['cl'], ['cc'], ['gcc'], ['clang'], ['clang-cl'], ['pgcc']]\n",
      "                  The following exception(s) were encountered:\n",
      "                  Running `icl \"\"` gave \"[WinError 2] The system cannot find the file specified\"\n",
      "                  Running `cl /?` gave \"[WinError 2] The system cannot find the file specified\"\n",
      "                  Running `cc --version` gave \"[WinError 2] The system cannot find the file specified\"\n",
      "                  Running `gcc --version` gave \"[WinError 2] The system cannot find the file specified\"\n",
      "                  Running `clang --version` gave \"[WinError 2] The system cannot find the file specified\"\n",
      "                  Running `clang-cl /?` gave \"[WinError 2] The system cannot find the file specified\"\n",
      "                  Running `pgcc --version` gave \"[WinError 2] The system cannot find the file specified\"\n",
      "      \n",
      "                  A full log can be found at C:\\Users\\kumar\\AppData\\Local\\Temp\\pip-install-d5z2o5cs\\numpy_ae82eb5da8c2429bbacd377a31efe539\\.mesonpy-0dfwtdt_\\meson-logs\\meson-log.txt\n",
      "                  [end of output]\n",
      "      \n",
      "              note: This error originates from a subprocess, and is likely not a problem with pip.\n",
      "            error: metadata-generation-failed\n",
      "      \n",
      "            Ãƒâ€” Encountered error while generating package metadata.\n",
      "            Ã¢â€¢Â°Ã¢â€\\x9dâ‚¬> See above for output.\n",
      "      \n",
      "            note: This is an issue with the package mentioned above, not pip.\n",
      "            hint: See above for details.\n",
      "            [end of output]\n",
      "      \n",
      "        note: This error originates from a subprocess, and is likely not a problem with pip.\n",
      "      error: subprocess-exited-with-error\n",
      "      \n",
      "      Ã— pip subprocess to install build dependencies did not run successfully.\n",
      "      â”‚ exit code: 1\n",
      "      â•°â”€> See above for output.\n",
      "      \n",
      "      note: This error originates from a subprocess, and is likely not a problem with pip.\n",
      "      [end of output]\n",
      "  \n",
      "  note: This error originates from a subprocess, and is likely not a problem with pip.\n",
      "error: subprocess-exited-with-error\n",
      "\n",
      "× pip subprocess to install build dependencies did not run successfully.\n",
      "│ exit code: 1\n",
      "╰─> See above for output.\n",
      "\n",
      "note: This error originates from a subprocess, and is likely not a problem with pip.\n"
     ]
    }
   ],
   "source": [
    "! pip install SpaCy\n"
   ]
  },
  {
   "cell_type": "code",
   "execution_count": 41,
   "metadata": {},
   "outputs": [
    {
     "name": "stdout",
     "output_type": "stream",
     "text": [
      "Defaulting to user installation because normal site-packages is not writeable\n",
      "Requirement already satisfied: cython in c:\\users\\kumar\\appdata\\roaming\\python\\python313\\site-packages (3.0.11)\n",
      "Defaulting to user installation because normal site-packages is not writeable\n",
      "Requirement already satisfied: numpy in c:\\users\\kumar\\appdata\\roaming\\python\\python313\\site-packages (2.2.1)\n",
      "Defaulting to user installation because normal site-packages is not writeable\n",
      "Requirement already satisfied: setuptools in c:\\users\\kumar\\appdata\\roaming\\python\\python313\\site-packages (75.8.0)\n"
     ]
    }
   ],
   "source": [
    "!pip install cython\n",
    "!pip install numpy\n",
    "!pip install setuptools\n",
    "# !pip install spacy\n",
    "\n"
   ]
  },
  {
   "cell_type": "code",
   "execution_count": 22,
   "metadata": {},
   "outputs": [
    {
     "name": "stdout",
     "output_type": "stream",
     "text": [
      "Defaulting to user installation because normal site-packages is not writeable\n",
      "Requirement already satisfied: pip in c:\\users\\kumar\\appdata\\roaming\\python\\python313\\site-packages (25.0)\n"
     ]
    }
   ],
   "source": [
    "!python -m pip install --upgrade pip\n"
   ]
  },
  {
   "cell_type": "code",
   "execution_count": 23,
   "metadata": {},
   "outputs": [
    {
     "name": "stdout",
     "output_type": "stream",
     "text": [
      "Python 3.13.1\n"
     ]
    }
   ],
   "source": [
    "!python --version\n"
   ]
  },
  {
   "cell_type": "code",
   "execution_count": 25,
   "metadata": {},
   "outputs": [
    {
     "name": "stdout",
     "output_type": "stream",
     "text": [
      "Defaulting to user installation because normal site-packages is not writeable\n",
      "Note: you may need to restart the kernel to use updated packages.\n"
     ]
    },
    {
     "name": "stderr",
     "output_type": "stream",
     "text": [
      "ERROR: Could not find a version that satisfies the requirement spacy==3.8.2 (from versions: none)\n",
      "ERROR: No matching distribution found for spacy==3.8.2\n"
     ]
    }
   ],
   "source": [
    "pip install spacy==3.8.2 --only-binary :all:\n"
   ]
  },
  {
   "cell_type": "code",
   "execution_count": 26,
   "metadata": {},
   "outputs": [
    {
     "name": "stdout",
     "output_type": "stream",
     "text": [
      "Defaulting to user installation because normal site-packages is not writeable\n",
      "Requirement already satisfied: pip in c:\\users\\kumar\\appdata\\roaming\\python\\python313\\site-packages (25.0)\n"
     ]
    }
   ],
   "source": [
    "!pip install --upgrade pip\n"
   ]
  },
  {
   "cell_type": "code",
   "execution_count": 33,
   "metadata": {},
   "outputs": [
    {
     "name": "stdout",
     "output_type": "stream",
     "text": [
      "Defaulting to user installation because normal site-packages is not writeable\n",
      "Collecting spacy\n",
      "  Using cached spacy-3.8.2.tar.gz (1.3 MB)\n",
      "  Installing build dependencies: started\n",
      "  Installing build dependencies: still running...\n",
      "  Installing build dependencies: still running...\n",
      "  Installing build dependencies: finished with status 'error'\n"
     ]
    },
    {
     "name": "stderr",
     "output_type": "stream",
     "text": [
      "  error: subprocess-exited-with-error\n",
      "  \n",
      "  × pip subprocess to install build dependencies did not run successfully.\n",
      "  │ exit code: 1\n",
      "  ╰─> [102 lines of output]\n",
      "      Ignoring numpy: markers 'python_version < \"3.9\"' don't match your environment\n",
      "      Collecting setuptools\n",
      "        Using cached setuptools-75.8.0-py3-none-any.whl.metadata (6.7 kB)\n",
      "      Collecting cython<3.0,>=0.25\n",
      "        Using cached Cython-0.29.37-py2.py3-none-any.whl.metadata (3.1 kB)\n",
      "      Collecting cymem<2.1.0,>=2.0.2\n",
      "        Using cached cymem-2.0.11-cp313-cp313-win_amd64.whl.metadata (8.8 kB)\n",
      "      Collecting preshed<3.1.0,>=3.0.2\n",
      "        Using cached preshed-3.0.9.tar.gz (14 kB)\n",
      "        Installing build dependencies: started\n",
      "        Installing build dependencies: finished with status 'done'\n",
      "        Getting requirements to build wheel: started\n",
      "        Getting requirements to build wheel: still running...\n",
      "        Getting requirements to build wheel: finished with status 'done'\n",
      "        Preparing metadata (pyproject.toml): started\n",
      "        Preparing metadata (pyproject.toml): finished with status 'done'\n",
      "      Collecting murmurhash<1.1.0,>=0.28.0\n",
      "        Using cached murmurhash-1.0.12-cp313-cp313-win_amd64.whl.metadata (2.2 kB)\n",
      "      Collecting thinc<8.4.0,>=8.3.0\n",
      "        Using cached thinc-8.3.2.tar.gz (193 kB)\n",
      "        Installing build dependencies: started\n",
      "        Installing build dependencies: finished with status 'error'\n",
      "        error: subprocess-exited-with-error\n",
      "      \n",
      "        Ã— pip subprocess to install build dependencies did not run successfully.\n",
      "        â”‚ exit code: 1\n",
      "        â•°â”€> [65 lines of output]\n",
      "            Ignoring numpy: markers 'python_version < \"3.9\"' don't match your environment\n",
      "            Collecting setuptools\n",
      "              Using cached setuptools-75.8.0-py3-none-any.whl.metadata (6.7 kB)\n",
      "            Collecting cython<3.0,>=0.25\n",
      "              Using cached Cython-0.29.37-py2.py3-none-any.whl.metadata (3.1 kB)\n",
      "            Collecting murmurhash<1.1.0,>=1.0.2\n",
      "              Using cached murmurhash-1.0.12-cp313-cp313-win_amd64.whl.metadata (2.2 kB)\n",
      "            Collecting cymem<2.1.0,>=2.0.2\n",
      "              Using cached cymem-2.0.11-cp313-cp313-win_amd64.whl.metadata (8.8 kB)\n",
      "            Collecting preshed<3.1.0,>=3.0.2\n",
      "              Using cached preshed-3.0.9.tar.gz (14 kB)\n",
      "              Installing build dependencies: started\n",
      "              Installing build dependencies: finished with status 'done'\n",
      "              Getting requirements to build wheel: started\n",
      "              Getting requirements to build wheel: finished with status 'done'\n",
      "              Preparing metadata (pyproject.toml): started\n",
      "              Preparing metadata (pyproject.toml): finished with status 'done'\n",
      "            Collecting blis<1.1.0,>=1.0.0\n",
      "              Using cached blis-1.0.2-cp313-cp313-win_amd64.whl.metadata (7.8 kB)\n",
      "            Collecting numpy<2.1.0,>=2.0.0\n",
      "              Using cached numpy-2.0.2.tar.gz (18.9 MB)\n",
      "              Installing build dependencies: started\n",
      "              Installing build dependencies: finished with status 'done'\n",
      "              Getting requirements to build wheel: started\n",
      "              Getting requirements to build wheel: finished with status 'done'\n",
      "              Installing backend dependencies: started\n",
      "              Installing backend dependencies: finished with status 'done'\n",
      "              Preparing metadata (pyproject.toml): started\n",
      "              Preparing metadata (pyproject.toml): finished with status 'error'\n",
      "              error: subprocess-exited-with-error\n",
      "      \n",
      "              Ãƒâ€” Preparing metadata (pyproject.toml) did not run successfully.\n",
      "              Ã¢â€\\x9dâ€š exit code: 1\n",
      "              Ã¢â€¢Â°Ã¢â€\\x9dâ‚¬> [21 lines of output]\n",
      "                  + c:\\Program Files\\Python313\\python.exe C:\\Users\\kumar\\AppData\\Local\\Temp\\pip-install-pv9dta_h\\numpy_e307389ee8b7430ba132d9905f35edea\\vendored-meson\\meson\\meson.py setup C:\\Users\\kumar\\AppData\\Local\\Temp\\pip-install-pv9dta_h\\numpy_e307389ee8b7430ba132d9905f35edea C:\\Users\\kumar\\AppData\\Local\\Temp\\pip-install-pv9dta_h\\numpy_e307389ee8b7430ba132d9905f35edea\\.mesonpy-97bqels4 -Dbuildtype=release -Db_ndebug=if-release -Db_vscrt=md --native-file=C:\\Users\\kumar\\AppData\\Local\\Temp\\pip-install-pv9dta_h\\numpy_e307389ee8b7430ba132d9905f35edea\\.mesonpy-97bqels4\\meson-python-native-file.ini\n",
      "                  The Meson build system\n",
      "                  Version: 1.4.99\n",
      "                  Source dir: C:\\Users\\kumar\\AppData\\Local\\Temp\\pip-install-pv9dta_h\\numpy_e307389ee8b7430ba132d9905f35edea\n",
      "                  Build dir: C:\\Users\\kumar\\AppData\\Local\\Temp\\pip-install-pv9dta_h\\numpy_e307389ee8b7430ba132d9905f35edea\\.mesonpy-97bqels4\n",
      "                  Build type: native build\n",
      "                  Project name: NumPy\n",
      "                  Project version: 2.0.2\n",
      "                  WARNING: Failed to activate VS environment: Could not find C:\\Program Files (x86)\\Microsoft Visual Studio\\Installer\\vswhere.exe\n",
      "      \n",
      "                  ..\\meson.build:1:0: ERROR: Unknown compiler(s): [['icl'], ['cl'], ['cc'], ['gcc'], ['clang'], ['clang-cl'], ['pgcc']]\n",
      "                  The following exception(s) were encountered:\n",
      "                  Running `icl \"\"` gave \"[WinError 2] The system cannot find the file specified\"\n",
      "                  Running `cl /?` gave \"[WinError 2] The system cannot find the file specified\"\n",
      "                  Running `cc --version` gave \"[WinError 2] The system cannot find the file specified\"\n",
      "                  Running `gcc --version` gave \"[WinError 2] The system cannot find the file specified\"\n",
      "                  Running `clang --version` gave \"[WinError 2] The system cannot find the file specified\"\n",
      "                  Running `clang-cl /?` gave \"[WinError 2] The system cannot find the file specified\"\n",
      "                  Running `pgcc --version` gave \"[WinError 2] The system cannot find the file specified\"\n",
      "      \n",
      "                  A full log can be found at C:\\Users\\kumar\\AppData\\Local\\Temp\\pip-install-pv9dta_h\\numpy_e307389ee8b7430ba132d9905f35edea\\.mesonpy-97bqels4\\meson-logs\\meson-log.txt\n",
      "                  [end of output]\n",
      "      \n",
      "              note: This error originates from a subprocess, and is likely not a problem with pip.\n",
      "            error: metadata-generation-failed\n",
      "      \n",
      "            Ãƒâ€” Encountered error while generating package metadata.\n",
      "            Ã¢â€¢Â°Ã¢â€\\x9dâ‚¬> See above for output.\n",
      "      \n",
      "            note: This is an issue with the package mentioned above, not pip.\n",
      "            hint: See above for details.\n",
      "            [end of output]\n",
      "      \n",
      "        note: This error originates from a subprocess, and is likely not a problem with pip.\n",
      "      error: subprocess-exited-with-error\n",
      "      \n",
      "      Ã— pip subprocess to install build dependencies did not run successfully.\n",
      "      â”‚ exit code: 1\n",
      "      â•°â”€> See above for output.\n",
      "      \n",
      "      note: This error originates from a subprocess, and is likely not a problem with pip.\n",
      "      [end of output]\n",
      "  \n",
      "  note: This error originates from a subprocess, and is likely not a problem with pip.\n",
      "error: subprocess-exited-with-error\n",
      "\n",
      "× pip subprocess to install build dependencies did not run successfully.\n",
      "│ exit code: 1\n",
      "╰─> See above for output.\n",
      "\n",
      "note: This error originates from a subprocess, and is likely not a problem with pip.\n"
     ]
    }
   ],
   "source": [
    "!pip install spacy\n"
   ]
  },
  {
   "cell_type": "code",
   "execution_count": 36,
   "metadata": {},
   "outputs": [
    {
     "name": "stdout",
     "output_type": "stream",
     "text": [
      "Python 3.13.1\n",
      "Defaulting to user installation because normal site-packages is not writeable\n",
      "Collecting spacy==3.8.2\n",
      "  Using cached spacy-3.8.2.tar.gz (1.3 MB)\n",
      "  Installing build dependencies: started\n",
      "  Installing build dependencies: still running...\n",
      "  Installing build dependencies: finished with status 'error'\n"
     ]
    },
    {
     "name": "stderr",
     "output_type": "stream",
     "text": [
      "  error: subprocess-exited-with-error\n",
      "  \n",
      "  × pip subprocess to install build dependencies did not run successfully.\n",
      "  │ exit code: 1\n",
      "  ╰─> [103 lines of output]\n",
      "      Ignoring numpy: markers 'python_version < \"3.9\"' don't match your environment\n",
      "      Collecting setuptools\n",
      "        Using cached setuptools-75.8.0-py3-none-any.whl.metadata (6.7 kB)\n",
      "      Collecting cython<3.0,>=0.25\n",
      "        Using cached Cython-0.29.37-py2.py3-none-any.whl.metadata (3.1 kB)\n",
      "      Collecting cymem<2.1.0,>=2.0.2\n",
      "        Using cached cymem-2.0.11-cp313-cp313-win_amd64.whl.metadata (8.8 kB)\n",
      "      Collecting preshed<3.1.0,>=3.0.2\n",
      "        Using cached preshed-3.0.9.tar.gz (14 kB)\n",
      "        Installing build dependencies: started\n",
      "        Installing build dependencies: finished with status 'done'\n",
      "        Getting requirements to build wheel: started\n",
      "        Getting requirements to build wheel: finished with status 'done'\n",
      "        Preparing metadata (pyproject.toml): started\n",
      "        Preparing metadata (pyproject.toml): finished with status 'done'\n",
      "      Collecting murmurhash<1.1.0,>=0.28.0\n",
      "        Using cached murmurhash-1.0.12-cp313-cp313-win_amd64.whl.metadata (2.2 kB)\n",
      "      Collecting thinc<8.4.0,>=8.3.0\n",
      "        Using cached thinc-8.3.2.tar.gz (193 kB)\n",
      "        Installing build dependencies: started\n",
      "        Installing build dependencies: still running...\n",
      "        Installing build dependencies: finished with status 'error'\n",
      "        error: subprocess-exited-with-error\n",
      "      \n",
      "        Ã— pip subprocess to install build dependencies did not run successfully.\n",
      "        â”‚ exit code: 1\n",
      "        â•°â”€> [66 lines of output]\n",
      "            Ignoring numpy: markers 'python_version < \"3.9\"' don't match your environment\n",
      "            Collecting setuptools\n",
      "              Using cached setuptools-75.8.0-py3-none-any.whl.metadata (6.7 kB)\n",
      "            Collecting cython<3.0,>=0.25\n",
      "              Using cached Cython-0.29.37-py2.py3-none-any.whl.metadata (3.1 kB)\n",
      "            Collecting murmurhash<1.1.0,>=1.0.2\n",
      "              Using cached murmurhash-1.0.12-cp313-cp313-win_amd64.whl.metadata (2.2 kB)\n",
      "            Collecting cymem<2.1.0,>=2.0.2\n",
      "              Using cached cymem-2.0.11-cp313-cp313-win_amd64.whl.metadata (8.8 kB)\n",
      "            Collecting preshed<3.1.0,>=3.0.2\n",
      "              Using cached preshed-3.0.9.tar.gz (14 kB)\n",
      "              Installing build dependencies: started\n",
      "              Installing build dependencies: finished with status 'done'\n",
      "              Getting requirements to build wheel: started\n",
      "              Getting requirements to build wheel: still running...\n",
      "              Getting requirements to build wheel: finished with status 'done'\n",
      "              Preparing metadata (pyproject.toml): started\n",
      "              Preparing metadata (pyproject.toml): finished with status 'done'\n",
      "            Collecting blis<1.1.0,>=1.0.0\n",
      "              Using cached blis-1.0.2-cp313-cp313-win_amd64.whl.metadata (7.8 kB)\n",
      "            Collecting numpy<2.1.0,>=2.0.0\n",
      "              Using cached numpy-2.0.2.tar.gz (18.9 MB)\n",
      "              Installing build dependencies: started\n",
      "              Installing build dependencies: finished with status 'done'\n",
      "              Getting requirements to build wheel: started\n",
      "              Getting requirements to build wheel: finished with status 'done'\n",
      "              Installing backend dependencies: started\n",
      "              Installing backend dependencies: finished with status 'done'\n",
      "              Preparing metadata (pyproject.toml): started\n",
      "              Preparing metadata (pyproject.toml): finished with status 'error'\n",
      "              error: subprocess-exited-with-error\n",
      "      \n",
      "              Ãƒâ€” Preparing metadata (pyproject.toml) did not run successfully.\n",
      "              Ã¢â€\\x9dâ€š exit code: 1\n",
      "              Ã¢â€¢Â°Ã¢â€\\x9dâ‚¬> [21 lines of output]\n",
      "                  + c:\\Program Files\\Python313\\python.exe C:\\Users\\kumar\\AppData\\Local\\Temp\\pip-install-7fmeabpx\\numpy_eb8927d991394435a0cf0cad56887656\\vendored-meson\\meson\\meson.py setup C:\\Users\\kumar\\AppData\\Local\\Temp\\pip-install-7fmeabpx\\numpy_eb8927d991394435a0cf0cad56887656 C:\\Users\\kumar\\AppData\\Local\\Temp\\pip-install-7fmeabpx\\numpy_eb8927d991394435a0cf0cad56887656\\.mesonpy-swq7qh4p -Dbuildtype=release -Db_ndebug=if-release -Db_vscrt=md --native-file=C:\\Users\\kumar\\AppData\\Local\\Temp\\pip-install-7fmeabpx\\numpy_eb8927d991394435a0cf0cad56887656\\.mesonpy-swq7qh4p\\meson-python-native-file.ini\n",
      "                  The Meson build system\n",
      "                  Version: 1.4.99\n",
      "                  Source dir: C:\\Users\\kumar\\AppData\\Local\\Temp\\pip-install-7fmeabpx\\numpy_eb8927d991394435a0cf0cad56887656\n",
      "                  Build dir: C:\\Users\\kumar\\AppData\\Local\\Temp\\pip-install-7fmeabpx\\numpy_eb8927d991394435a0cf0cad56887656\\.mesonpy-swq7qh4p\n",
      "                  Build type: native build\n",
      "                  Project name: NumPy\n",
      "                  Project version: 2.0.2\n",
      "                  WARNING: Failed to activate VS environment: Could not find C:\\Program Files (x86)\\Microsoft Visual Studio\\Installer\\vswhere.exe\n",
      "      \n",
      "                  ..\\meson.build:1:0: ERROR: Unknown compiler(s): [['icl'], ['cl'], ['cc'], ['gcc'], ['clang'], ['clang-cl'], ['pgcc']]\n",
      "                  The following exception(s) were encountered:\n",
      "                  Running `icl \"\"` gave \"[WinError 2] The system cannot find the file specified\"\n",
      "                  Running `cl /?` gave \"[WinError 2] The system cannot find the file specified\"\n",
      "                  Running `cc --version` gave \"[WinError 2] The system cannot find the file specified\"\n",
      "                  Running `gcc --version` gave \"[WinError 2] The system cannot find the file specified\"\n",
      "                  Running `clang --version` gave \"[WinError 2] The system cannot find the file specified\"\n",
      "                  Running `clang-cl /?` gave \"[WinError 2] The system cannot find the file specified\"\n",
      "                  Running `pgcc --version` gave \"[WinError 2] The system cannot find the file specified\"\n",
      "      \n",
      "                  A full log can be found at C:\\Users\\kumar\\AppData\\Local\\Temp\\pip-install-7fmeabpx\\numpy_eb8927d991394435a0cf0cad56887656\\.mesonpy-swq7qh4p\\meson-logs\\meson-log.txt\n",
      "                  [end of output]\n",
      "      \n",
      "              note: This error originates from a subprocess, and is likely not a problem with pip.\n",
      "            error: metadata-generation-failed\n",
      "      \n",
      "            Ãƒâ€” Encountered error while generating package metadata.\n",
      "            Ã¢â€¢Â°Ã¢â€\\x9dâ‚¬> See above for output.\n",
      "      \n",
      "            note: This is an issue with the package mentioned above, not pip.\n",
      "            hint: See above for details.\n",
      "            [end of output]\n",
      "      \n",
      "        note: This error originates from a subprocess, and is likely not a problem with pip.\n",
      "      error: subprocess-exited-with-error\n",
      "      \n",
      "      Ã— pip subprocess to install build dependencies did not run successfully.\n",
      "      â”‚ exit code: 1\n",
      "      â•°â”€> See above for output.\n",
      "      \n",
      "      note: This error originates from a subprocess, and is likely not a problem with pip.\n",
      "      [end of output]\n",
      "  \n",
      "  note: This error originates from a subprocess, and is likely not a problem with pip.\n",
      "error: subprocess-exited-with-error\n",
      "\n",
      "× pip subprocess to install build dependencies did not run successfully.\n",
      "│ exit code: 1\n",
      "╰─> See above for output.\n",
      "\n",
      "note: This error originates from a subprocess, and is likely not a problem with pip.\n"
     ]
    },
    {
     "name": "stdout",
     "output_type": "stream",
     "text": [
      "Python 3.13.1\n"
     ]
    }
   ],
   "source": [
    "!python --version\n",
    "!pip install spacy==3.8.2\n",
    "!python --version\n",
    "\n",
    "\n",
    "\n"
   ]
  },
  {
   "cell_type": "code",
   "execution_count": 38,
   "metadata": {},
   "outputs": [
    {
     "name": "stdout",
     "output_type": "stream",
     "text": [
      "Defaulting to user installation because normal site-packages is not writeable\n",
      "Collecting spacy==3.8.2\n",
      "  Downloading spacy-3.8.2.tar.gz (1.3 MB)\n",
      "     ---------------------------------------- 0.0/1.3 MB ? eta -:--:--\n",
      "     ---------------------------------------- 0.0/1.3 MB ? eta -:--:--\n",
      "     ---------------------------------------- 0.0/1.3 MB ? eta -:--:--\n",
      "     ---------------------------------------- 0.0/1.3 MB ? eta -:--:--\n",
      "     ---------------------------------------- 0.0/1.3 MB ? eta -:--:--\n",
      "     ---------------------------------------- 0.0/1.3 MB ? eta -:--:--\n",
      "     ---------------------------------------- 0.0/1.3 MB ? eta -:--:--\n",
      "     ---------------------------------------- 0.0/1.3 MB ? eta -:--:--\n",
      "     ---------------------------------------- 0.0/1.3 MB ? eta -:--:--\n",
      "     ---------------------------------------- 0.0/1.3 MB ? eta -:--:--\n",
      "     ---------------------------------------- 0.0/1.3 MB ? eta -:--:--\n",
      "     ---------------------------------------- 0.0/1.3 MB ? eta -:--:--\n",
      "     ---------------------------------------- 0.0/1.3 MB ? eta -:--:--\n",
      "     ---------------------------------------- 0.0/1.3 MB ? eta -:--:--\n",
      "     ---------------------------------------- 0.0/1.3 MB ? eta -:--:--\n",
      "     ---------------------------------------- 0.0/1.3 MB ? eta -:--:--\n",
      "     ---------------------------------------- 0.0/1.3 MB ? eta -:--:--\n",
      "     ---------------------------------------- 0.0/1.3 MB ? eta -:--:--\n",
      "     ---------------------------------------- 0.0/1.3 MB ? eta -:--:--\n",
      "     ---------------------------------------- 0.0/1.3 MB ? eta -:--:--\n",
      "     ---------------------------------------- 0.0/1.3 MB ? eta -:--:--\n",
      "     -------- ------------------------------- 0.3/1.3 MB ? eta -:--:--\n",
      "     -------- ------------------------------- 0.3/1.3 MB ? eta -:--:--\n",
      "     -------- ------------------------------- 0.3/1.3 MB ? eta -:--:--\n",
      "     -------- ------------------------------- 0.3/1.3 MB ? eta -:--:--\n",
      "     -------- ------------------------------- 0.3/1.3 MB ? eta -:--:--\n",
      "     -------- ------------------------------- 0.3/1.3 MB ? eta -:--:--\n",
      "     -------- ------------------------------- 0.3/1.3 MB ? eta -:--:--\n",
      "     -------- ------------------------------- 0.3/1.3 MB ? eta -:--:--\n",
      "     -------- ------------------------------- 0.3/1.3 MB ? eta -:--:--\n",
      "     -------- ------------------------------- 0.3/1.3 MB ? eta -:--:--\n",
      "     -------- ------------------------------- 0.3/1.3 MB ? eta -:--:--\n",
      "     -------- ------------------------------- 0.3/1.3 MB ? eta -:--:--\n",
      "     -------- ------------------------------- 0.3/1.3 MB ? eta -:--:--\n",
      "     -------- ------------------------------- 0.3/1.3 MB ? eta -:--:--\n",
      "     -------- ------------------------------- 0.3/1.3 MB ? eta -:--:--\n",
      "     -------- ------------------------------- 0.3/1.3 MB ? eta -:--:--\n",
      "     -------- ------------------------------- 0.3/1.3 MB ? eta -:--:--\n",
      "     -------- ------------------------------- 0.3/1.3 MB ? eta -:--:--\n",
      "     -------- ------------------------------- 0.3/1.3 MB ? eta -:--:--\n",
      "     -------- ------------------------------- 0.3/1.3 MB ? eta -:--:--\n",
      "     -------- ------------------------------- 0.3/1.3 MB ? eta -:--:--\n",
      "     -------- ------------------------------- 0.3/1.3 MB ? eta -:--:--\n",
      "     -------- ------------------------------- 0.3/1.3 MB ? eta -:--:--\n",
      "     -------- ------------------------------- 0.3/1.3 MB ? eta -:--:--\n",
      "     -------- ------------------------------- 0.3/1.3 MB ? eta -:--:--\n",
      "     -------- ------------------------------- 0.3/1.3 MB ? eta -:--:--\n",
      "     -------- ------------------------------- 0.3/1.3 MB ? eta -:--:--\n",
      "     -------- ------------------------------- 0.3/1.3 MB ? eta -:--:--\n",
      "     ---------------- ----------------------- 0.5/1.3 MB 43.6 kB/s eta 0:00:18\n",
      "     ---------------- ----------------------- 0.5/1.3 MB 43.6 kB/s eta 0:00:18\n",
      "     ---------------- ----------------------- 0.5/1.3 MB 43.6 kB/s eta 0:00:18\n",
      "     ---------------- ----------------------- 0.5/1.3 MB 43.6 kB/s eta 0:00:18\n",
      "     ---------------- ----------------------- 0.5/1.3 MB 43.6 kB/s eta 0:00:18\n",
      "     ---------------- ----------------------- 0.5/1.3 MB 43.6 kB/s eta 0:00:18\n",
      "     ---------------- ----------------------- 0.5/1.3 MB 43.6 kB/s eta 0:00:18\n",
      "     ---------------- ----------------------- 0.5/1.3 MB 43.6 kB/s eta 0:00:18\n",
      "     ---------------- ----------------------- 0.5/1.3 MB 43.6 kB/s eta 0:00:18\n",
      "     ---------------- ----------------------- 0.5/1.3 MB 43.6 kB/s eta 0:00:18\n",
      "     ---------------- ----------------------- 0.5/1.3 MB 43.6 kB/s eta 0:00:18\n",
      "     ---------------- ----------------------- 0.5/1.3 MB 43.6 kB/s eta 0:00:18\n",
      "     ---------------- ----------------------- 0.5/1.3 MB 43.6 kB/s eta 0:00:18\n",
      "     ---------------- ----------------------- 0.5/1.3 MB 43.6 kB/s eta 0:00:18\n",
      "     ---------------- ----------------------- 0.5/1.3 MB 43.6 kB/s eta 0:00:18\n",
      "     ---------------- ----------------------- 0.5/1.3 MB 43.6 kB/s eta 0:00:18\n",
      "     ---------------- ----------------------- 0.5/1.3 MB 43.6 kB/s eta 0:00:18\n",
      "     ------------------------ --------------- 0.8/1.3 MB 54.1 kB/s eta 0:00:10\n",
      "     ------------------------ --------------- 0.8/1.3 MB 54.1 kB/s eta 0:00:10\n",
      "     ------------------------ --------------- 0.8/1.3 MB 54.1 kB/s eta 0:00:10\n",
      "     ------------------------ --------------- 0.8/1.3 MB 54.1 kB/s eta 0:00:10\n",
      "     ------------------------ --------------- 0.8/1.3 MB 54.1 kB/s eta 0:00:10\n",
      "     ------------------------ --------------- 0.8/1.3 MB 54.1 kB/s eta 0:00:10\n",
      "     ------------------------ --------------- 0.8/1.3 MB 54.1 kB/s eta 0:00:10\n",
      "     ------------------------ --------------- 0.8/1.3 MB 54.1 kB/s eta 0:00:10\n",
      "     ------------------------ --------------- 0.8/1.3 MB 54.1 kB/s eta 0:00:10\n",
      "     ------------------------ --------------- 0.8/1.3 MB 54.1 kB/s eta 0:00:10\n",
      "     ------------------------ --------------- 0.8/1.3 MB 54.1 kB/s eta 0:00:10\n",
      "     ------------------------ --------------- 0.8/1.3 MB 54.1 kB/s eta 0:00:10\n",
      "     ------------------------ --------------- 0.8/1.3 MB 54.1 kB/s eta 0:00:10\n",
      "     ------------------------ --------------- 0.8/1.3 MB 54.1 kB/s eta 0:00:10\n",
      "     ------------------------ --------------- 0.8/1.3 MB 54.1 kB/s eta 0:00:10\n",
      "     ------------------------ --------------- 0.8/1.3 MB 54.1 kB/s eta 0:00:10\n",
      "     ------------------------ --------------- 0.8/1.3 MB 54.1 kB/s eta 0:00:10\n",
      "     -------------------------------- ------- 1.0/1.3 MB 59.4 kB/s eta 0:00:05\n",
      "     -------------------------------- ------- 1.0/1.3 MB 59.4 kB/s eta 0:00:05\n",
      "     -------------------------------- ------- 1.0/1.3 MB 59.4 kB/s eta 0:00:05\n",
      "     -------------------------------- ------- 1.0/1.3 MB 59.4 kB/s eta 0:00:05\n",
      "     -------------------------------- ------- 1.0/1.3 MB 59.4 kB/s eta 0:00:05\n",
      "     -------------------------------- ------- 1.0/1.3 MB 59.4 kB/s eta 0:00:05\n",
      "     -------------------------------- ------- 1.0/1.3 MB 59.4 kB/s eta 0:00:05\n",
      "     -------------------------------- ------- 1.0/1.3 MB 59.4 kB/s eta 0:00:05\n",
      "     -------------------------------- ------- 1.0/1.3 MB 59.4 kB/s eta 0:00:05\n",
      "     -------------------------------- ------- 1.0/1.3 MB 59.4 kB/s eta 0:00:05\n",
      "     -------------------------------- ------- 1.0/1.3 MB 59.4 kB/s eta 0:00:05\n",
      "     -------------------------------- ------- 1.0/1.3 MB 59.4 kB/s eta 0:00:05\n",
      "     -------------------------------- ------- 1.0/1.3 MB 59.4 kB/s eta 0:00:05\n",
      "     ---------------------------------------- 1.3/1.3 MB 64.1 kB/s eta 0:00:00\n",
      "  Installing build dependencies: started\n",
      "  Installing build dependencies: still running...\n",
      "  Installing build dependencies: finished with status 'error'\n"
     ]
    },
    {
     "name": "stderr",
     "output_type": "stream",
     "text": [
      "  error: subprocess-exited-with-error\n",
      "  \n",
      "  × pip subprocess to install build dependencies did not run successfully.\n",
      "  │ exit code: 1\n",
      "  ╰─> [101 lines of output]\n",
      "      Ignoring numpy: markers 'python_version < \"3.9\"' don't match your environment\n",
      "      Collecting setuptools\n",
      "        Using cached setuptools-75.8.0-py3-none-any.whl.metadata (6.7 kB)\n",
      "      Collecting cython<3.0,>=0.25\n",
      "        Using cached Cython-0.29.37-py2.py3-none-any.whl.metadata (3.1 kB)\n",
      "      Collecting cymem<2.1.0,>=2.0.2\n",
      "        Using cached cymem-2.0.11-cp313-cp313-win_amd64.whl.metadata (8.8 kB)\n",
      "      Collecting preshed<3.1.0,>=3.0.2\n",
      "        Using cached preshed-3.0.9.tar.gz (14 kB)\n",
      "        Installing build dependencies: started\n",
      "        Installing build dependencies: finished with status 'done'\n",
      "        Getting requirements to build wheel: started\n",
      "        Getting requirements to build wheel: finished with status 'done'\n",
      "        Preparing metadata (pyproject.toml): started\n",
      "        Preparing metadata (pyproject.toml): finished with status 'done'\n",
      "      Collecting murmurhash<1.1.0,>=0.28.0\n",
      "        Using cached murmurhash-1.0.12-cp313-cp313-win_amd64.whl.metadata (2.2 kB)\n",
      "      Collecting thinc<8.4.0,>=8.3.0\n",
      "        Using cached thinc-8.3.2.tar.gz (193 kB)\n",
      "        Installing build dependencies: started\n",
      "        Installing build dependencies: finished with status 'error'\n",
      "        error: subprocess-exited-with-error\n",
      "      \n",
      "        Ã— pip subprocess to install build dependencies did not run successfully.\n",
      "        â”‚ exit code: 1\n",
      "        â•°â”€> [65 lines of output]\n",
      "            Ignoring numpy: markers 'python_version < \"3.9\"' don't match your environment\n",
      "            Collecting setuptools\n",
      "              Using cached setuptools-75.8.0-py3-none-any.whl.metadata (6.7 kB)\n",
      "            Collecting cython<3.0,>=0.25\n",
      "              Using cached Cython-0.29.37-py2.py3-none-any.whl.metadata (3.1 kB)\n",
      "            Collecting murmurhash<1.1.0,>=1.0.2\n",
      "              Using cached murmurhash-1.0.12-cp313-cp313-win_amd64.whl.metadata (2.2 kB)\n",
      "            Collecting cymem<2.1.0,>=2.0.2\n",
      "              Using cached cymem-2.0.11-cp313-cp313-win_amd64.whl.metadata (8.8 kB)\n",
      "            Collecting preshed<3.1.0,>=3.0.2\n",
      "              Using cached preshed-3.0.9.tar.gz (14 kB)\n",
      "              Installing build dependencies: started\n",
      "              Installing build dependencies: finished with status 'done'\n",
      "              Getting requirements to build wheel: started\n",
      "              Getting requirements to build wheel: finished with status 'done'\n",
      "              Preparing metadata (pyproject.toml): started\n",
      "              Preparing metadata (pyproject.toml): finished with status 'done'\n",
      "            Collecting blis<1.1.0,>=1.0.0\n",
      "              Using cached blis-1.0.2-cp313-cp313-win_amd64.whl.metadata (7.8 kB)\n",
      "            Collecting numpy<2.1.0,>=2.0.0\n",
      "              Using cached numpy-2.0.2.tar.gz (18.9 MB)\n",
      "              Installing build dependencies: started\n",
      "              Installing build dependencies: finished with status 'done'\n",
      "              Getting requirements to build wheel: started\n",
      "              Getting requirements to build wheel: finished with status 'done'\n",
      "              Installing backend dependencies: started\n",
      "              Installing backend dependencies: finished with status 'done'\n",
      "              Preparing metadata (pyproject.toml): started\n",
      "              Preparing metadata (pyproject.toml): finished with status 'error'\n",
      "              error: subprocess-exited-with-error\n",
      "      \n",
      "              Ãƒâ€” Preparing metadata (pyproject.toml) did not run successfully.\n",
      "              Ã¢â€\\x9dâ€š exit code: 1\n",
      "              Ã¢â€¢Â°Ã¢â€\\x9dâ‚¬> [21 lines of output]\n",
      "                  + c:\\Program Files\\Python313\\python.exe C:\\Users\\kumar\\AppData\\Local\\Temp\\pip-install-801gmf5t\\numpy_f37db62a171e49ab9a9d21e7ad8bf170\\vendored-meson\\meson\\meson.py setup C:\\Users\\kumar\\AppData\\Local\\Temp\\pip-install-801gmf5t\\numpy_f37db62a171e49ab9a9d21e7ad8bf170 C:\\Users\\kumar\\AppData\\Local\\Temp\\pip-install-801gmf5t\\numpy_f37db62a171e49ab9a9d21e7ad8bf170\\.mesonpy-l68eo007 -Dbuildtype=release -Db_ndebug=if-release -Db_vscrt=md --native-file=C:\\Users\\kumar\\AppData\\Local\\Temp\\pip-install-801gmf5t\\numpy_f37db62a171e49ab9a9d21e7ad8bf170\\.mesonpy-l68eo007\\meson-python-native-file.ini\n",
      "                  The Meson build system\n",
      "                  Version: 1.4.99\n",
      "                  Source dir: C:\\Users\\kumar\\AppData\\Local\\Temp\\pip-install-801gmf5t\\numpy_f37db62a171e49ab9a9d21e7ad8bf170\n",
      "                  Build dir: C:\\Users\\kumar\\AppData\\Local\\Temp\\pip-install-801gmf5t\\numpy_f37db62a171e49ab9a9d21e7ad8bf170\\.mesonpy-l68eo007\n",
      "                  Build type: native build\n",
      "                  Project name: NumPy\n",
      "                  Project version: 2.0.2\n",
      "                  WARNING: Failed to activate VS environment: Could not find C:\\Program Files (x86)\\Microsoft Visual Studio\\Installer\\vswhere.exe\n",
      "      \n",
      "                  ..\\meson.build:1:0: ERROR: Unknown compiler(s): [['icl'], ['cl'], ['cc'], ['gcc'], ['clang'], ['clang-cl'], ['pgcc']]\n",
      "                  The following exception(s) were encountered:\n",
      "                  Running `icl \"\"` gave \"[WinError 2] The system cannot find the file specified\"\n",
      "                  Running `cl /?` gave \"[WinError 2] The system cannot find the file specified\"\n",
      "                  Running `cc --version` gave \"[WinError 2] The system cannot find the file specified\"\n",
      "                  Running `gcc --version` gave \"[WinError 2] The system cannot find the file specified\"\n",
      "                  Running `clang --version` gave \"[WinError 2] The system cannot find the file specified\"\n",
      "                  Running `clang-cl /?` gave \"[WinError 2] The system cannot find the file specified\"\n",
      "                  Running `pgcc --version` gave \"[WinError 2] The system cannot find the file specified\"\n",
      "      \n",
      "                  A full log can be found at C:\\Users\\kumar\\AppData\\Local\\Temp\\pip-install-801gmf5t\\numpy_f37db62a171e49ab9a9d21e7ad8bf170\\.mesonpy-l68eo007\\meson-logs\\meson-log.txt\n",
      "                  [end of output]\n",
      "      \n",
      "              note: This error originates from a subprocess, and is likely not a problem with pip.\n",
      "            error: metadata-generation-failed\n",
      "      \n",
      "            Ãƒâ€” Encountered error while generating package metadata.\n",
      "            Ã¢â€¢Â°Ã¢â€\\x9dâ‚¬> See above for output.\n",
      "      \n",
      "            note: This is an issue with the package mentioned above, not pip.\n",
      "            hint: See above for details.\n",
      "            [end of output]\n",
      "      \n",
      "        note: This error originates from a subprocess, and is likely not a problem with pip.\n",
      "      error: subprocess-exited-with-error\n",
      "      \n",
      "      Ã— pip subprocess to install build dependencies did not run successfully.\n",
      "      â”‚ exit code: 1\n",
      "      â•°â”€> See above for output.\n",
      "      \n",
      "      note: This error originates from a subprocess, and is likely not a problem with pip.\n",
      "      [end of output]\n",
      "  \n",
      "  note: This error originates from a subprocess, and is likely not a problem with pip.\n",
      "error: subprocess-exited-with-error\n",
      "\n",
      "× pip subprocess to install build dependencies did not run successfully.\n",
      "│ exit code: 1\n",
      "╰─> See above for output.\n",
      "\n",
      "note: This error originates from a subprocess, and is likely not a problem with pip.\n"
     ]
    },
    {
     "name": "stdout",
     "output_type": "stream",
     "text": [
      "Python 3.13.1\n"
     ]
    }
   ],
   "source": [
    "!pip install --no-cache-dir spacy==3.8.2\n",
    "\n",
    "!python --version\n"
   ]
  }
 ],
 "metadata": {
  "kernelspec": {
   "display_name": "Python 3",
   "language": "python",
   "name": "python3"
  },
  "language_info": {
   "codemirror_mode": {
    "name": "ipython",
    "version": 3
   },
   "file_extension": ".py",
   "mimetype": "text/x-python",
   "name": "python",
   "nbconvert_exporter": "python",
   "pygments_lexer": "ipython3",
   "version": "3.13.1"
  }
 },
 "nbformat": 4,
 "nbformat_minor": 2
}
