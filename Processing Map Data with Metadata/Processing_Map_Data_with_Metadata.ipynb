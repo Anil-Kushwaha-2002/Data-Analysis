{
  "nbformat": 4,
  "nbformat_minor": 0,
  "metadata": {
    "colab": {
      "provenance": []
    },
    "kernelspec": {
      "name": "python3",
      "display_name": "Python 3"
    },
    "language_info": {
      "name": "python"
    }
  },
  "cells": [
    {
      "cell_type": "markdown",
      "source": [
        "# **Assignment :- Processing Map Data with Metadata**"
      ],
      "metadata": {
        "id": "BfdAK3kL8YdP"
      }
    },
    {
      "cell_type": "markdown",
      "source": [
        "Submitted by - Anil Kushwaha\n",
        "\n",
        "Mo.no - 9829159839\n",
        "\n",
        "Email - kumaranil48309@gmail.com"
      ],
      "metadata": {
        "id": "8hLJ1ZvfDM3p"
      }
    },
    {
      "cell_type": "markdown",
      "source": [
        "# **Objective:**\n",
        "**You have been provided with two JSON files:**\n",
        "\n",
        "**1. The first JSON contains location identifiers (id), latitude, and longitude.**\n",
        "\n",
        "**2. The second JSON contains additional metadata related to each location identifier.**"
      ],
      "metadata": {
        "id": "vCNrOIzCAERL"
      }
    },
    {
      "cell_type": "code",
      "source": [
        "import json\n",
        "import pandas as pd\n",
        "\n",
        "# Sample JSON data (replace with file reading if needed)\n",
        "locations_json = '''\n",
        "[\n",
        "    {\"id\": \"loc_01\", \"latitude\": 37.7749, \"longitude\": -122.4194},\n",
        "    {\"id\": \"loc_04\", \"latitude\": 27.8749, \"longitude\": 122.4194},\n",
        "    {\"id\": \"loc_05\", \"latitude\": 57.2749, \"longitude\": -112.4344},\n",
        "    {\"id\": \"loc_06\", \"latitude\": 14.0522, \"longitude\": -119.2531},\n",
        "    {\"id\": \"loc_07\", \"latitude\": 64.0522, \"longitude\": -108.2330},\n",
        "    {\"id\": \"loc_02\", \"latitude\": 34.0522, \"longitude\": -118.2437},\n",
        "    {\"id\": \"loc_08\", \"latitude\": 24.0522, \"longitude\": -168.2197},\n",
        "    {\"id\": \"loc_03\", \"latitude\": 40.7128, \"longitude\": -74.0060}\n",
        "]\n",
        "'''\n",
        "\n",
        "metadata_json = '''\n",
        "[\n",
        "    {\"id\": \"loc_01\", \"type\": \"restaurant\", \"rating\": 4.5, \"reviews\": 120},\n",
        "    {\"id\": \"loc_04\", \"type\": \"restaurant\", \"rating\": 4.1, \"reviews\": 500},\n",
        "    {\"id\": \"loc_05\", \"type\": \"restaurant\", \"rating\": 3.7, \"reviews\": 110},\n",
        "    {\"id\": \"loc_02\", \"type\": \"hotel\", \"rating\": 4.2, \"reviews\": 200},\n",
        "    {\"id\": \"loc_06\", \"type\": \"hotel\", \"rating\": 4.0, \"reviews\": 700},\n",
        "    {\"id\": \"loc_07\", \"type\": \"hotel\", \"rating\": 2.0, \"reviews\": 900},\n",
        "    {\"id\": \"loc_03\", \"type\": \"cafe\", \"rating\": 4.7, \"reviews\": 150},\n",
        "    {\"id\": \"loc_08\", \"type\": \"cafe\", \"rating\": 4.5, \"reviews\": 750}\n",
        "]\n",
        "'''\n",
        "\n",
        "# Load JSON into Python lists\n",
        "locations = json.loads(locations_json)\n",
        "metadata = json.loads(metadata_json)"
      ],
      "metadata": {
        "id": "z0XZdeBpCArF"
      },
      "execution_count": 23,
      "outputs": []
    },
    {
      "cell_type": "code",
      "source": [
        "# Convert JSON to Pandas DataFrames\n",
        "df_locations = pd.DataFrame(locations)\n",
        "df_metadata = pd.DataFrame(metadata)\n",
        "\n",
        "# Display data\n",
        "print(\"Locations DataFrame:\\n\", df_locations)\n",
        "print(\"\\nMetadata DataFrame:\\n\", df_metadata)"
      ],
      "metadata": {
        "colab": {
          "base_uri": "https://localhost:8080/"
        },
        "id": "COsrIt26CFzx",
        "outputId": "ab94d8c6-2429-4210-9857-cc1feff2c4e2"
      },
      "execution_count": 24,
      "outputs": [
        {
          "output_type": "stream",
          "name": "stdout",
          "text": [
            "Locations DataFrame:\n",
            "        id  latitude  longitude\n",
            "0  loc_01   37.7749  -122.4194\n",
            "1  loc_04   27.8749   122.4194\n",
            "2  loc_05   57.2749  -112.4344\n",
            "3  loc_06   14.0522  -119.2531\n",
            "4  loc_07   64.0522  -108.2330\n",
            "5  loc_02   34.0522  -118.2437\n",
            "6  loc_08   24.0522  -168.2197\n",
            "7  loc_03   40.7128   -74.0060\n",
            "\n",
            "Metadata DataFrame:\n",
            "        id        type  rating  reviews\n",
            "0  loc_01  restaurant     4.5      120\n",
            "1  loc_04  restaurant     4.1      500\n",
            "2  loc_05  restaurant     3.7      110\n",
            "3  loc_02       hotel     4.2      200\n",
            "4  loc_06       hotel     4.0      700\n",
            "5  loc_07       hotel     2.0      900\n",
            "6  loc_03        cafe     4.7      150\n",
            "7  loc_08        cafe     4.5      750\n"
          ]
        }
      ]
    },
    {
      "cell_type": "code",
      "source": [
        "# Merge DataFrames on 'id'\n",
        "df_merged = pd.merge(df_locations, df_metadata, on=\"id\", how=\"left\")\n",
        "\n",
        "# Display the merged data\n",
        "print(\"\\nMerged DataFrame:\\n\", df_merged)"
      ],
      "metadata": {
        "colab": {
          "base_uri": "https://localhost:8080/"
        },
        "id": "HvH-cHcXCKFt",
        "outputId": "2af2f5b6-cdd2-45a4-b82f-132bc78fb98b"
      },
      "execution_count": 25,
      "outputs": [
        {
          "output_type": "stream",
          "name": "stdout",
          "text": [
            "\n",
            "Merged DataFrame:\n",
            "        id  latitude  longitude        type  rating  reviews\n",
            "0  loc_01   37.7749  -122.4194  restaurant     4.5      120\n",
            "1  loc_04   27.8749   122.4194  restaurant     4.1      500\n",
            "2  loc_05   57.2749  -112.4344  restaurant     3.7      110\n",
            "3  loc_06   14.0522  -119.2531       hotel     4.0      700\n",
            "4  loc_07   64.0522  -108.2330       hotel     2.0      900\n",
            "5  loc_02   34.0522  -118.2437       hotel     4.2      200\n",
            "6  loc_08   24.0522  -168.2197        cafe     4.5      750\n",
            "7  loc_03   40.7128   -74.0060        cafe     4.7      150\n"
          ]
        }
      ]
    },
    {
      "cell_type": "code",
      "source": [
        "# Count valid locations per type\n",
        "valid_points_count = df_merged[\"type\"].value_counts()\n",
        "print(\"\\nValid Points Per Type:\\n\", valid_points_count)"
      ],
      "metadata": {
        "colab": {
          "base_uri": "https://localhost:8080/"
        },
        "id": "d_pv5jsiCOBW",
        "outputId": "bd90f6df-7bab-485a-f70c-bff98659c277"
      },
      "execution_count": 26,
      "outputs": [
        {
          "output_type": "stream",
          "name": "stdout",
          "text": [
            "\n",
            "Valid Points Per Type:\n",
            " type\n",
            "restaurant    3\n",
            "hotel         3\n",
            "cafe          2\n",
            "Name: count, dtype: int64\n"
          ]
        }
      ]
    },
    {
      "cell_type": "code",
      "source": [
        "# Calculate the average rating per type\n",
        "avg_rating = df_merged.groupby(\"type\")[\"rating\"].mean()\n",
        "print(\"\\nAverage Rating Per Type:\\n\", avg_rating)"
      ],
      "metadata": {
        "colab": {
          "base_uri": "https://localhost:8080/"
        },
        "id": "IUJMrD90CSQ-",
        "outputId": "1ff76b34-58e6-43a3-f975-132d6f6a25ad"
      },
      "execution_count": 27,
      "outputs": [
        {
          "output_type": "stream",
          "name": "stdout",
          "text": [
            "\n",
            "Average Rating Per Type:\n",
            " type\n",
            "cafe          4.6\n",
            "hotel         3.4\n",
            "restaurant    4.1\n",
            "Name: rating, dtype: float64\n"
          ]
        }
      ]
    },
    {
      "cell_type": "code",
      "source": [
        "# Find the location with the highest number of reviews\n",
        "max_reviews = df_merged.loc[df_merged[\"reviews\"].idxmax()]\n",
        "print(\"\\nLocation with the Highest Reviews:\\n\", max_reviews)"
      ],
      "metadata": {
        "colab": {
          "base_uri": "https://localhost:8080/"
        },
        "id": "L-BAehnCCWvf",
        "outputId": "b20c5642-fc62-41c1-fbdd-30d791d88190"
      },
      "execution_count": 28,
      "outputs": [
        {
          "output_type": "stream",
          "name": "stdout",
          "text": [
            "\n",
            "Location with the Highest Reviews:\n",
            " id            loc_07\n",
            "latitude     64.0522\n",
            "longitude   -108.233\n",
            "type           hotel\n",
            "rating           2.0\n",
            "reviews          900\n",
            "Name: 4, dtype: object\n"
          ]
        }
      ]
    },
    {
      "cell_type": "code",
      "source": [
        "# Find locations with missing values\n",
        "incomplete_data = df_merged[df_merged.isnull().any(axis=1)]\n",
        "print(\"\\nLocations with Incomplete Data:\\n\", incomplete_data)"
      ],
      "metadata": {
        "colab": {
          "base_uri": "https://localhost:8080/"
        },
        "id": "-MLoLD3wCYum",
        "outputId": "6093b806-cf02-4bec-aa54-c5a1e98896eb"
      },
      "execution_count": 29,
      "outputs": [
        {
          "output_type": "stream",
          "name": "stdout",
          "text": [
            "\n",
            "Locations with Incomplete Data:\n",
            " Empty DataFrame\n",
            "Columns: [id, latitude, longitude, type, rating, reviews]\n",
            "Index: []\n"
          ]
        }
      ]
    },
    {
      "cell_type": "markdown",
      "source": [
        "# **Visualize data**"
      ],
      "metadata": {
        "id": "GRgpqLPSC9cn"
      }
    },
    {
      "cell_type": "code",
      "source": [
        "import matplotlib.pyplot as plt\n",
        "\n",
        "# Bar chart for valid locations per type\n",
        "valid_points_count.plot(kind=\"bar\", color=[\"blue\", \"green\", \"red\"])\n",
        "plt.title(\"Number of Locations per Type\")\n",
        "plt.xlabel(\"Type\")\n",
        "plt.ylabel(\"Count\")\n",
        "plt.show()"
      ],
      "metadata": {
        "colab": {
          "base_uri": "https://localhost:8080/",
          "height": 530
        },
        "id": "8XWoxHqbCeTV",
        "outputId": "16dbe180-61e6-47af-cbd9-56a7b9fb8eeb"
      },
      "execution_count": 30,
      "outputs": [
        {
          "output_type": "display_data",
          "data": {
            "text/plain": [
              "<Figure size 640x480 with 1 Axes>"
            ],
            "image/png": "[encoded data removed]"
          },
          "metadata": {}
        }
      ]
    }
  ]
}